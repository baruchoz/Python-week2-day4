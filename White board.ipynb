{
 "cells": [
  {
   "cell_type": "code",
   "execution_count": 2,
   "id": "b36f4d3e",
   "metadata": {
    "scrolled": true
   },
   "outputs": [
    {
     "name": "stdout",
     "output_type": "stream",
     "text": [
      "3\n",
      "7\n",
      "0\n",
      "0\n"
     ]
    }
   ],
   "source": [
    "# You must implement a function that return the difference between the biggest and the smallest value in a list(lst) received as parameter.\n",
    "\n",
    "# The list(lst) contains integers, that means it may contain some negative numbers.\n",
    "\n",
    "# If the list is empty or contains a single element, return 0.\n",
    "\n",
    "# The list(lst) is not sorted.\n",
    "\n",
    "# max_diff([1, 2, 3, 4]) # return 3, because 4 - 1 == 3\n",
    "# max_diff([1, 2, 3, -4]) # return 7, because 3 - (-4) == 7\n",
    "\n",
    "\n",
    "def max_diff(ls):\n",
    "    if len(ls) == 0 or len(ls) == 1:\n",
    "        return 0\n",
    "    biggest = max(ls)\n",
    "    smallest = min(ls)\n",
    "    return biggest - smallest\n",
    "print(max_diff([1, 2, 3, 4])) # return 3, because 4 - 1 == 3\n",
    "print(max_diff([1, 2, 3, -4])) # return 7, because 3 - (-4) == 7\n",
    "print(max_diff([1]))\n",
    "print(max_diff([]))"
   ]
  },
  {
   "cell_type": "code",
   "execution_count": 3,
   "id": "8fd69ab2",
   "metadata": {},
   "outputs": [
    {
     "name": "stdout",
     "output_type": "stream",
     "text": [
      "0\n",
      "0\n",
      "9\n",
      "16\n"
     ]
    }
   ],
   "source": [
    "def max_diff(a_list):\n",
    "    if a_list:\n",
    "        return max(a_list) - min(a_list)\n",
    "    return 0\n",
    "\n",
    "\n",
    "print(max_diff([]))\n",
    "print(max_diff([10]))\n",
    "print(max_diff([10, 3, 6, 2, 1, 5, 3]))\n",
    "print(max_diff([10, 3, -6, 2, 1, 5, 3]))"
   ]
  }
 ],
 "metadata": {
  "kernelspec": {
   "display_name": "Python 3",
   "language": "python",
   "name": "python3"
  },
  "language_info": {
   "codemirror_mode": {
    "name": "ipython",
    "version": 3
   },
   "file_extension": ".py",
   "mimetype": "text/x-python",
   "name": "python",
   "nbconvert_exporter": "python",
   "pygments_lexer": "ipython3",
   "version": "3.8.8"
  }
 },
 "nbformat": 4,
 "nbformat_minor": 5
}
